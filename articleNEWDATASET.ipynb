{
 "cells": [
  {
   "cell_type": "code",
   "execution_count": 1,
   "id": "specialized-keeping",
   "metadata": {},
   "outputs": [],
   "source": [
    "import imageio\n",
    "import torch\n",
    "import numpy as np\n",
    "from ripser import ripser, lower_star_img\n",
    "import pandas as pd\n",
    "from torch.utils.data import TensorDataset, DataLoader\n",
    "import numpy as np\n",
    "import cv2\n",
    "from matplotlib import pyplot as plt\n",
    "import numpy as np # linear algebra\n",
    "import pandas as pd # reading and processing of tables\n",
    "import skimage, os\n",
    "from scipy import ndimage as ndi\n",
    "import matplotlib.pyplot as plt\n",
    "from mpl_toolkits.mplot3d.art3d import Poly3DCollection\n",
    "# import dicom\n",
    "import scipy.misc\n",
    "from tqdm import tqdm\n",
    "from PIL import Image\n",
    "from sklearn.model_selection import train_test_split"
   ]
  },
  {
   "cell_type": "code",
   "execution_count": 2,
   "id": "tired-journalism",
   "metadata": {},
   "outputs": [
    {
     "name": "stdout",
     "output_type": "stream",
     "text": [
      "\u001b[34mCOVID\u001b[m\u001b[m           article.ipynb   labels.pkl      \u001b[34mnon-COVID\u001b[m\u001b[m       transformed.npy\r\n"
     ]
    }
   ],
   "source": [
    "!ls"
   ]
  },
  {
   "cell_type": "code",
   "execution_count": 3,
   "id": "progressive-abraham",
   "metadata": {},
   "outputs": [],
   "source": [
    "covid_images = !ls COVID/\n",
    "non_covid_images = !ls non-COVID/"
   ]
  },
  {
   "cell_type": "code",
   "execution_count": 4,
   "id": "trying-bleeding",
   "metadata": {},
   "outputs": [
    {
     "data": {
      "text/plain": [
       "(1252, 1229)"
      ]
     },
     "execution_count": 4,
     "metadata": {},
     "output_type": "execute_result"
    }
   ],
   "source": [
    "covid_images = [\"COVID/\" + x for x in covid_images]\n",
    "non_covid_images = [\"non-COVID/\" + x for x in non_covid_images]\n",
    "len(covid_images), len(non_covid_images)"
   ]
  },
  {
   "cell_type": "code",
   "execution_count": 5,
   "id": "rocky-warrior",
   "metadata": {},
   "outputs": [
    {
     "data": {
      "text/plain": [
       "array([[ 37.,  38.],\n",
       "       [ 37.,  38.],\n",
       "       [ 38.,  39.],\n",
       "       ...,\n",
       "       [239., 255.],\n",
       "       [199., 255.],\n",
       "       [ 36.,  inf]])"
      ]
     },
     "execution_count": 5,
     "metadata": {},
     "output_type": "execute_result"
    }
   ],
   "source": [
    "img = cv2.imread(covid_images[0], cv2.IMREAD_GRAYSCALE)\n",
    "lower_star_img(img)"
   ]
  },
  {
   "cell_type": "code",
   "execution_count": 22,
   "id": "retained-greece",
   "metadata": {},
   "outputs": [
    {
     "name": "stderr",
     "output_type": "stream",
     "text": [
      "100%|██████████| 1229/1229 [03:59<00:00,  5.14it/s]\n",
      "100%|██████████| 1252/1252 [03:32<00:00,  5.90it/s]"
     ]
    },
    {
     "name": "stdout",
     "output_type": "stream",
     "text": [
      "CPU times: user 6min 39s, sys: 50.6 s, total: 7min 29s\n",
      "Wall time: 7min 31s\n"
     ]
    },
    {
     "name": "stderr",
     "output_type": "stream",
     "text": [
      "\n"
     ]
    }
   ],
   "source": [
    "%%time\n",
    "non_covid_diagrams = [lower_star_img(cv2.imread(x, cv2.IMREAD_GRAYSCALE))\n",
    "                      for x in tqdm(non_covid_images)]\n",
    "covid_diagrams = [lower_star_img(cv2.imread(x, cv2.IMREAD_GRAYSCALE))\n",
    "                      for x in tqdm(covid_images)]"
   ]
  },
  {
   "cell_type": "code",
   "execution_count": 34,
   "id": "compliant-assessment",
   "metadata": {},
   "outputs": [],
   "source": [
    "diagrams = non_covid_diagrams + covid_diagrams\n",
    "labels = [0] * len(non_covid_diagrams) + [1] * len(covid_diagrams)"
   ]
  },
  {
   "cell_type": "code",
   "execution_count": 35,
   "id": "auburn-pierce",
   "metadata": {},
   "outputs": [],
   "source": [
    "import random\n",
    "c = list(zip(diagrams, labels))\n",
    "\n",
    "random.shuffle(c)\n",
    "\n",
    "diagrams, labels = zip(*c)"
   ]
  },
  {
   "cell_type": "code",
   "execution_count": 36,
   "id": "threatened-maryland",
   "metadata": {},
   "outputs": [
    {
     "name": "stderr",
     "output_type": "stream",
     "text": [
      "100%|██████████| 2481/2481 [00:00<00:00, 6303.95it/s]\n"
     ]
    }
   ],
   "source": [
    "diagrams = list(diagrams)\n",
    "\n",
    "def clean_dgms(dgms):\n",
    "    for i in tqdm(range(len(dgms))):\n",
    "        array = dgms[i]\n",
    "        whereinf = np.isfinite(array)\n",
    "        array[~whereinf] = 1\n",
    "        array = np.nan_to_num(array)\n",
    "        dgms[i] = array\n",
    "    return dgms\n",
    "cleaned_dgms = clean_dgms(diagrams)"
   ]
  },
  {
   "cell_type": "code",
   "execution_count": 37,
   "id": "cordless-depression",
   "metadata": {},
   "outputs": [],
   "source": [
    "import gudhi.representations as tda"
   ]
  },
  {
   "cell_type": "code",
   "execution_count": 38,
   "id": "reported-grenada",
   "metadata": {},
   "outputs": [],
   "source": [
    "# with open('diagrams.pickle', 'wb') as f:\n",
    "#     pickle.dump(diagrams, f)"
   ]
  },
  {
   "cell_type": "code",
   "execution_count": 39,
   "id": "taken-treaty",
   "metadata": {},
   "outputs": [],
   "source": [
    "with open('diagrams.pickle', 'rb') as f:\n",
    "    diagrams = pickle.load(f)"
   ]
  },
  {
   "cell_type": "code",
   "execution_count": 40,
   "id": "alive-pension",
   "metadata": {},
   "outputs": [],
   "source": [
    "import pickle \n",
    "# with open('labels.pkl', 'wb') as f:\n",
    "#     pickle.dump(list(labels), f)\n",
    "with open('labels.pkl', 'rb') as f:\n",
    "    labels = pickle.load(f)"
   ]
  },
  {
   "cell_type": "code",
   "execution_count": 49,
   "id": "humanitarian-porter",
   "metadata": {},
   "outputs": [],
   "source": [
    "from catboost import CatBoostClassifier\n",
    "from sklearn.ensemble import AdaBoostClassifier"
   ]
  },
  {
   "cell_type": "code",
   "execution_count": 63,
   "id": "considered-burning",
   "metadata": {
    "scrolled": true
   },
   "outputs": [
    {
     "name": "stdout",
     "output_type": "stream",
     "text": [
      "CPU times: user 50.5 s, sys: 590 ms, total: 51.1 s\n",
      "Wall time: 20.4 s\n"
     ]
    },
    {
     "data": {
      "text/plain": [
       "0.9855072463768116"
      ]
     },
     "execution_count": 63,
     "metadata": {},
     "output_type": "execute_result"
    }
   ],
   "source": [
    "%%time\n",
    "betti = tda.BettiCurve(resolution=100)\n",
    "transformed = betti.fit_transform(diagrams)\n",
    "clf = CatBoostClassifier()\n",
    "X_train, X_test, y_train, y_test = train_test_split(transformed, labels)\n",
    "\n",
    "clf.fit(X_train, y_train, verbose=False)\n",
    "clf.score(X_test, y_test)\n",
    "clf.save_model('betti+catboost.model')"
   ]
  }
 ],
 "metadata": {
  "kernelspec": {
   "display_name": "Python 3",
   "language": "python",
   "name": "python3"
  },
  "language_info": {
   "codemirror_mode": {
    "name": "ipython",
    "version": 3
   },
   "file_extension": ".py",
   "mimetype": "text/x-python",
   "name": "python",
   "nbconvert_exporter": "python",
   "pygments_lexer": "ipython3",
   "version": "3.8.5"
  }
 },
 "nbformat": 4,
 "nbformat_minor": 5
}
